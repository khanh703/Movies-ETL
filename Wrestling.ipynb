{
 "cells": [
  {
   "cell_type": "code",
   "execution_count": 1,
   "id": "2f116580",
   "metadata": {},
   "outputs": [],
   "source": [
    "import os\n",
    "import csv"
   ]
  },
  {
   "cell_type": "code",
   "execution_count": 6,
   "id": "13ad646e",
   "metadata": {},
   "outputs": [],
   "source": [
    "# Path to collect data from the Resources folder\n",
    "wrestling_csv = os.path.join( \"WWE-Data-2016.csv\")\n"
   ]
  },
  {
   "cell_type": "code",
   "execution_count": 8,
   "id": "2c62264f",
   "metadata": {},
   "outputs": [
    {
     "name": "stdout",
     "output_type": "stream",
     "text": [
      "What wrestler do you want to look for? John Cena\n",
      "['John Cena', '29', '21', '0']\n"
     ]
    }
   ],
   "source": [
    "\n",
    "# Define the function and have it accept the 'wrestlerData' as its sole parameter\n",
    "def accept_name(name_to_check):\n",
    "    print(name_to_check)\n",
    "    \n",
    "# Find the total number of matches wrestled\n",
    "\n",
    "# Find the percentage of matches won\n",
    "def print_percentages(row):\n",
    "    print(row)\n",
    "# Find the percentage of matches lost\n",
    "\n",
    "# Find the percentage of matches drawn\n",
    "\n",
    "# Print out the wrestler's name and their percentage stats\n",
    "\n",
    "# Read in the CSV file\n",
    "with open(wrestling_csv, 'r') as csvfile:\n",
    "\n",
    "    # Split the data on commas\n",
    "    csvreader = csv.reader(csvfile, delimiter=',')\n",
    "\n",
    "    # Prompt the user for what wrestler they would like to search for\n",
    "    name_to_check = input(\"What wrestler do you want to look for? \")\n",
    "\n",
    "    # Loop through the data\n",
    "    for row in csvreader:\n",
    "\n",
    "        # If the wrestler's name in a row is equal to that which the user input, run the 'print_percentages()' function\n",
    "        if(name_to_check == row[0]):\n",
    "            print_percentages(row)\n"
   ]
  },
  {
   "cell_type": "code",
   "execution_count": null,
   "id": "82c37475",
   "metadata": {},
   "outputs": [],
   "source": []
  }
 ],
 "metadata": {
  "kernelspec": {
   "display_name": "Python 3",
   "language": "python",
   "name": "python3"
  },
  "language_info": {
   "codemirror_mode": {
    "name": "ipython",
    "version": 3
   },
   "file_extension": ".py",
   "mimetype": "text/x-python",
   "name": "python",
   "nbconvert_exporter": "python",
   "pygments_lexer": "ipython3",
   "version": "3.9.5"
  }
 },
 "nbformat": 4,
 "nbformat_minor": 5
}
